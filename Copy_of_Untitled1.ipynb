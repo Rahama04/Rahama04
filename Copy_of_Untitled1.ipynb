{
  "nbformat": 4,
  "nbformat_minor": 0,
  "metadata": {
    "colab": {
      "name": "Copy of Untitled1.ipynb",
      "provenance": [],
      "toc_visible": true,
      "authorship_tag": "ABX9TyMW5bwkRae5raqpE0fL53E2",
      "include_colab_link": true
    },
    "kernelspec": {
      "name": "python3",
      "display_name": "Python 3"
    },
    "language_info": {
      "name": "python"
    }
  },
  "cells": [
    {
      "cell_type": "markdown",
      "metadata": {
        "id": "view-in-github",
        "colab_type": "text"
      },
      "source": [
        "<a href=\"https://colab.research.google.com/github/Rahama04/Rahama04/blob/main/Copy_of_Untitled1.ipynb\" target=\"_parent\"><img src=\"https://colab.research.google.com/assets/colab-badge.svg\" alt=\"Open In Colab\"/></a>"
      ]
    },
    {
      "cell_type": "code",
      "metadata": {
        "id": "K5Yt9Xi_W23f"
      },
      "source": [
        "import numpy as np\n",
        "\n",
        "import tensorflow_datasets as tfds\n",
        "\n",
        "import tensorflow as tf\n",
        "tfds.disable_progress_bar()\n",
        "\n"
      ],
      "execution_count": null,
      "outputs": []
    },
    {
      "cell_type": "code",
      "metadata": {
        "id": "Ft9BQt19W4Zi"
      },
      "source": [
        "dataset, info = tfds.load('imdb_reviews', with_info=True, as_supervised=True)\n",
        "\n",
        "train_dataset, test_dataset = dataset['train'], dataset['test']\n"
      ],
      "execution_count": null,
      "outputs": []
    },
    {
      "cell_type": "code",
      "metadata": {
        "id": "RfziUcHYW4wl",
        "colab": {
          "base_uri": "https://localhost:8080/"
        },
        "outputId": "080bfda3-67c2-4266-e2b1-bf85aab7aadd"
      },
      "source": [
        "for example, label in train_dataset.take(1):\n",
        "  print(\"text: \", example.numpy())\n",
        "  print(\"label: \", label.numpy())\n",
        "\n"
      ],
      "execution_count": null,
      "outputs": [
        {
          "output_type": "stream",
          "text": [
            "text:  b\"This was an absolutely terrible movie. Don't be lured in by Christopher Walken or Michael Ironside. Both are great actors, but this must simply be their worst role in history. Even their great acting could not redeem this movie's ridiculous storyline. This movie is an early nineties US propaganda piece. The most pathetic scenes were those when the Columbian rebels were making their cases for revolutions. Maria Conchita Alonso appeared phony, and her pseudo-love affair with Walken was nothing but a pathetic emotional plug in a movie that was devoid of any real meaning. I am disappointed that there are movies like this, ruining actor's like Christopher Walken's good name. I could barely sit through it.\"\n",
            "label:  0\n"
          ],
          "name": "stdout"
        }
      ]
    },
    {
      "cell_type": "code",
      "metadata": {
        "id": "ngXF_C8WW4zu"
      },
      "source": [
        "BUFFER_SIZE=10000\n",
        "BATCH_SIZE=64\n"
      ],
      "execution_count": null,
      "outputs": []
    },
    {
      "cell_type": "code",
      "metadata": {
        "id": "Q3bqUlzgW43a"
      },
      "source": [
        "train_dataset = train_dataset.shuffle(BUFFER_SIZE).batch(BATCH_SIZE).prefetch(tf.data.AUTOTUNE)\n",
        "\n",
        "test_dataset = test_dataset.batch(BATCH_SIZE).prefetch(tf.data.AUTOTUNE)\n"
      ],
      "execution_count": null,
      "outputs": []
    },
    {
      "cell_type": "code",
      "metadata": {
        "colab": {
          "base_uri": "https://localhost:8080/"
        },
        "id": "JlrAgq8ubyr2",
        "outputId": "fe8fc841-dd25-4c22-981d-eea3d42f2025"
      },
      "source": [
        "for example, label in train_dataset.take(1):\n",
        "   print(\"texts: \", example.numpy()[:3])\n",
        "   print()\n",
        "   print(\"label: \", label.numpy() [:3])\n"
      ],
      "execution_count": null,
      "outputs": [
        {
          "output_type": "stream",
          "text": [
            "texts:  [b\"Dirty Sanchez is the more extreme, British version of Jackass in which the four boys (Pritchard, Dainton, Joycey and Pancho) go to great lengths to hurt and humiliate each other. The reason this show is better than Jackass is because most of the stunts are not planned which makes the reaction much more funny. There are 3 series of the show, the first follows them around and takes a long look at their lives eg. there's an episode on their love lives,jobs etc. The second series sends the boys to try out different occupations. The third follows their European tour. It seems that the boys get more and more daring as the show progresses through the series. In my opinion the third series is the best, but trust me when i say, if you have a week stomach DO NOT WATCH, as you are lightly to see a fair amount of blood and puke in every episode.\"\n",
            " b\"Like a lot of series pilots, Dark Angel's opener shows a mixture of great potential and a slight problem finding its own feet. Not that this is unusual in any way, but there is a feeling that it could have worked better if the story was tightened and focused a little more. In today's world where something has to catch on instantly or face cancellation, the series did itself a bit of a disservice by not coming out at least halfway focused, with all guns blazing.<br /><br />The ninety-minute pilot really feels like two episodes glued together, and both episodes have a problem with focus. In the first half, we are introduced to Max and filled in on what drives her. We also get a few interesting routines with Max using her abilities to win bets, interacting with a PI, or sorting out co-workers' domestic problems. The problem here is that this is nothing out of the ordinary for any human being with a normal set of genes, on television or otherwise.<br /><br />It's when we hit the second half that we get a story with a purpose and focus. Throughout the two halves, Max finds herself the focus of attention from a pirate journalist who feels it is mission in life to save the world by exposing one dirty dealer at a time. In the second half, the repercussions catch up with him, and Max reluctantly cleans up the resulting mess. This sets up the premise for the entire rest of the series, and it works, but it doesn't quite click if you get my meaning. It's like most of the pieces are there, but a couple that make a complete image have been left out. Perhaps they get filled in with later episodes, but that's beside the point. The fact is that the contents of this episode could easily have been told with twenty-eight less minutes.<br /><br />The last of the negatives is that a lot of the support cast are totally unendearing. Original Cindy in particular is an annoyance, and I doubt that changed during the next twenty episodes. While the acting isn't as bad as daytime soap, it isn't of such quality that I'd commend it. Jessica Alba is not the worst actor in the world, but she does come up short in terms of being convincing when the story needs it least.<br /><br />The good news is that the premise and the production values are all top-notch. In fact, this series was considered quite expensive to produce, and it is quite unfortunate that it was cancelled in order to be replaced by another show that didn't last a whole season. Especially when there was ample time for both shows - they could have simply cancelled one of the pieces of disingenious garbage they flog under the banner of reality TV. The fact is that we need more shows like Dark Angel, where imagination rather than overhype, are used to draw the attention.<br /><br />In all, I gave the Dark Angel pilot a seven out of ten. It never rises above the level of throwaway television, and it never got a chance to live up to the potential it shows within its own running time. But the potential is there, and that's often all that matters where pilots are concerned.\"\n",
            " b\"Those who love Elivra as I did in her late night movie hostess duties will love this movie - she is just plain cool - her car is great, and she is a bit of a Transylvanian Dolly Parton - she is so innocent and naive at times - and sexy all of the time - plus, more than a touch of Mae West -<br /><br />The sets are well done as well, and the comic cast is great, with Edie McClurg at her usual best - plus Sally Kellerman as Patty is hilarious. Any time I have to crunch something for a topping, I will think of how Elvira crunches the potato chips -<br /><br />This movie is one to be watched again and again - just for the fun of it. Now I have to get the sequel to it, Elvira's Haunted Hills, and see if it lives up to this one ----\"]\n",
            "\n",
            "label:  [1 1 1]\n"
          ],
          "name": "stdout"
        }
      ]
    },
    {
      "cell_type": "code",
      "metadata": {
        "colab": {
          "base_uri": "https://localhost:8080/",
          "height": 132
        },
        "id": "IkHIPrASbyvR",
        "outputId": "cb7bbbd0-f800-4347-beec-4ca52e8687af"
      },
      "source": [
        "experimental.preprocessing.TextVectorization layer"
      ],
      "execution_count": null,
      "outputs": [
        {
          "output_type": "error",
          "ename": "SyntaxError",
          "evalue": "ignored",
          "traceback": [
            "\u001b[0;36m  File \u001b[0;32m\"<ipython-input-45-4ff06aa34e47>\"\u001b[0;36m, line \u001b[0;32m1\u001b[0m\n\u001b[0;31m    experimental.preprocessing.TextVectorization layer\u001b[0m\n\u001b[0m                                                     ^\u001b[0m\n\u001b[0;31mSyntaxError\u001b[0m\u001b[0;31m:\u001b[0m invalid syntax\n"
          ]
        }
      ]
    },
    {
      "cell_type": "code",
      "metadata": {
        "id": "CvCSsI7ScQmv"
      },
      "source": [
        "VOCAB_SIZE = 1000\n",
        "\n",
        "encoder = tf.keras.layers.experimental.preprocessing.TextVectorization(max_tokens=VOCAB_SIZE)\n",
        "\n",
        "encoder.adapt(train_dataset.map(lambda text, label:text))"
      ],
      "execution_count": null,
      "outputs": []
    },
    {
      "cell_type": "code",
      "metadata": {
        "id": "BMr7fxYTeefy"
      },
      "source": [
        ""
      ],
      "execution_count": null,
      "outputs": []
    },
    {
      "cell_type": "code",
      "metadata": {
        "id": "AgGyqIjReerD"
      },
      "source": [
        ""
      ],
      "execution_count": null,
      "outputs": []
    },
    {
      "cell_type": "code",
      "metadata": {
        "colab": {
          "base_uri": "https://localhost:8080/"
        },
        "id": "GLJj8PJMcQqY",
        "outputId": "460df71f-d749-467f-dc4e-e26ac41d03d1"
      },
      "source": [
        "vocab = np.array(encoder.get_vocabulary())\n",
        "vocab[:20]\n"
      ],
      "execution_count": null,
      "outputs": [
        {
          "output_type": "execute_result",
          "data": {
            "text/plain": [
              "array(['', '[UNK]', 'the', 'and', 'a', 'of', 'to', 'is', 'in', 'it', 'i',\n",
              "       'this', 'that', 'br', 'was', 'as', 'for', 'with', 'movie', 'but'],\n",
              "      dtype='<U7')"
            ]
          },
          "metadata": {
            "tags": []
          },
          "execution_count": 48
        }
      ]
    },
    {
      "cell_type": "code",
      "metadata": {
        "colab": {
          "base_uri": "https://localhost:8080/"
        },
        "id": "-u2Kn7yYefjn",
        "outputId": "5bac8833-3913-481c-c15e-591dc2d8773b"
      },
      "source": [
        "encoded_example = encoder(example)[:3].numpy()\n",
        "encoded_example"
      ],
      "execution_count": null,
      "outputs": [
        {
          "output_type": "execute_result",
          "data": {
            "text/plain": [
              "array([[ 1,  1,  7, ...,  0,  0,  0],\n",
              "       [39,  4,  1, ...,  0,  0,  0],\n",
              "       [ 1, 37,  1, ...,  0,  0,  0]])"
            ]
          },
          "metadata": {
            "tags": []
          },
          "execution_count": 49
        }
      ]
    },
    {
      "cell_type": "code",
      "metadata": {
        "id": "6riuA6M3gpt0"
      },
      "source": [
        ""
      ],
      "execution_count": null,
      "outputs": []
    },
    {
      "cell_type": "code",
      "metadata": {
        "id": "xyfIrJfLefur"
      },
      "source": [
        "model = tf.keras.Sequential([encoder, tf.keras.layers.Embedding(input_dim=len(encoder.get_vocabulary()), output_dim=64, mask_zero=True), \n",
        "                             tf.keras.layers.Bidirectional(tf.keras.layers.LSTM(64)), tf.keras.layers.Dense(64, activation='relu'),\n",
        "                             tf.keras.layers.Dense(1)])\n"
      ],
      "execution_count": null,
      "outputs": []
    },
    {
      "cell_type": "code",
      "metadata": {
        "colab": {
          "base_uri": "https://localhost:8080/"
        },
        "id": "EbZWrepRmf_s",
        "outputId": "902351d1-9d2a-438e-cd84-e6d90823ce31"
      },
      "source": [
        "sample_text=(\" the movie was cool\" \"animations were good\")\n",
        "\n",
        "predictions=model.predict(np.array([sample_text]))\n",
        "\n",
        "print(predictions[0])\n"
      ],
      "execution_count": null,
      "outputs": [
        {
          "output_type": "stream",
          "text": [
            "[-0.00098234]\n"
          ],
          "name": "stdout"
        }
      ]
    },
    {
      "cell_type": "code",
      "metadata": {
        "id": "pf_XIn9ZmgCO"
      },
      "source": [
        "model.compile(loss=tf.keras.losses.BinaryCrossentropy(from_logits=True), optimizer=tf.keras.optimizers.Adam(1e-4), metrics=[\"accuracy\"])\n"
      ],
      "execution_count": null,
      "outputs": []
    },
    {
      "cell_type": "code",
      "metadata": {
        "colab": {
          "base_uri": "https://localhost:8080/"
        },
        "id": "KlhPRLFEmgEA",
        "outputId": "19a9ca57-78df-455f-b60f-fea859426fd7"
      },
      "source": [
        "model.fit(train_dataset, epochs=10, validation_data=test_dataset, validation_steps=30)"
      ],
      "execution_count": null,
      "outputs": [
        {
          "output_type": "stream",
          "text": [
            "Epoch 1/10\n",
            "391/391 [==============================] - 717s 2s/step - loss: 0.6846 - accuracy: 0.5134 - val_loss: 0.6402 - val_accuracy: 0.5500\n",
            "Epoch 2/10\n",
            "347/391 [=========================>....] - ETA: 1:16 - loss: 0.5867 - accuracy: 0.6658"
          ],
          "name": "stdout"
        }
      ]
    },
    {
      "cell_type": "code",
      "metadata": {
        "id": "b23_5zr9mgHY"
      },
      "source": [
        "test_loss, test_acc = model.evaluate(test_dataset)\n",
        "\n",
        "print(\"test_loss\",test_loss\n",
        "      \n",
        "      print(\"test accuracy:\",test_acc))"
      ],
      "execution_count": null,
      "outputs": []
    },
    {
      "cell_type": "code",
      "metadata": {
        "id": "wVUucnzDgqlw"
      },
      "source": [
        ""
      ],
      "execution_count": null,
      "outputs": []
    }
  ]
}